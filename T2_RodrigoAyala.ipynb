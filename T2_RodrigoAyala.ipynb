{
 "cells": [
  {
   "cell_type": "markdown",
   "metadata": {},
   "source": [
    "# _`Resumen`_"
   ]
  },
  {
   "cell_type": "markdown",
   "metadata": {},
   "source": [
    "### [7 razones importantes por las cuales tú deberías usar Python.](https://medium.com/@mindfiresolutions.usa/python-7-important-reasons-why-you-should-use-python-5801a98a0d0b)\n",
    "\n",
    "Python es uno de los 10 lenguajes de programación más populares, principalmente porque es un lenguaje de alto nivel y uso general. Python se puede utilizar desde para hacer aplicaciones de escritorio con GUI, hasta sitios web y aplicaciones para estos. Existen también otra serie de razones por las cuales es conveniente usar Python en vez de otros lenguajes de programación.\n",
    "\n",
    "1.\tCódigo legible y en mantenimiento\n",
    "> La sintaxis de Python te permite expresar conceptos sin la necesidad de escribir código extra, y al mismo tiempo permite usar palabras clave en inglés en vez de signos de puntuación, lo cual lo hace más comprensible y fácil de leer que otros lenguajes de programación .\n",
    "2.\tMúltiples paradigmas de programación\n",
    "> Al igual que otros lenguajes de programación, Python permite trabajar diferentes paradigmas, como lo es la programación orientada a objetos y estructurada. Al mismo tiempo, usa un sistema dinámico de manejo por memoria automática. Estos dos aspectos resultan muy útiles en el desarrollo de un software complejo para aplicaciones.\n",
    "3.\tEs compatible con la mayoría de plataformas y sistemas\n",
    "> Python se puede trabajar en una gran gama de sistemas operativos, y con un interpretador es posible correrlo en plataformas específicas. Es un sistema interpretado, lo cual le permite correr el mismo código en diferentes plataformas sin la necesidad de compilar cada vez que se realiza un cambio, el código puede ser probado inmediatamente.\n",
    "4.\tLibrerías estándar\n",
    "> Existe una gran variedad de módulos para Python que pueden ser empleados para trabajar en una gran variedad de aplicaciones diferentes. Cada módulo aumenta la funcionabilidad específica para que el desarrollo de código sea lo más fácil posible sin tener que añadir código extra.\n",
    "5.\tMuchas estructuras y herramientas de código abierto.\n",
    "> Ya que es un lenguaje de código abierto, Python permite acortar el desarrollo de un programa de forma significativa por medio del uso de estructuras, librerías y diferentes herramientas que facilitan el desarrollo de software sin costo extra de trabajo.\n",
    "6.\tSimplifica el desarrollo de un software complejo\n",
    "> Python es un lenguaje de programación de uso general, por lo que es posible utilizarlo tanto para aplicaciones de escritorio como de páginas web. Python puede ser utilizado para el desarrollo de soluciones numéricas complejas, visualización y análisis de datos, entre otras aplicaciones exigentes sin exigencia de tiempo y esfuerzo extra.\n",
    "7.\tDesarrollo de test\n",
    "> Es posible crear un prototipo de rápida aplicación para su prueba. A partir del prototipo, también es posible terminar de desarrollar la aplicación final, o simplemente hacer una serie de pruebas (tests) de forma paralela al desarrollo del código."
   ]
  }
 ],
 "metadata": {
  "kernelspec": {
   "display_name": "Python 3",
   "language": "python",
   "name": "python3"
  },
  "language_info": {
   "codemirror_mode": {
    "name": "ipython",
    "version": 3
   },
   "file_extension": ".py",
   "mimetype": "text/x-python",
   "name": "python",
   "nbconvert_exporter": "python",
   "pygments_lexer": "ipython3",
   "version": "3.7.4"
  }
 },
 "nbformat": 4,
 "nbformat_minor": 2
}
